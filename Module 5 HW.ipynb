{
 "cells": [
  {
   "cell_type": "markdown",
   "id": "0aed4e6a",
   "metadata": {},
   "source": [
    "Write a python program that, given an input list of any level of complexity/nestedness, will return the inner most list plus 1. This is to be done with a while loop. Note: the input will contain only integers or lists. \n",
    "As an example:\n",
    "\n",
    "input_list = [1,2,3,4,[5,6,7,[8,9]]]\n",
    "\n",
    "your_py_program.py input_list\n",
    "\n",
    "will produce:\n",
    "\n",
    "[9,10]\n",
    "\n",
    "That is [8, 9] (the inner most list) plus 1 -> [9, 10]"
   ]
  },
  {
   "cell_type": "code",
   "execution_count": 6,
   "id": "ffcdc54b",
   "metadata": {},
   "outputs": [
    {
     "data": {
      "text/plain": [
       "[10, 11]"
      ]
     },
     "execution_count": 6,
     "metadata": {},
     "output_type": "execute_result"
    }
   ],
   "source": [
    "def q1(lst):\n",
    "    while any(type(x) == list for x in lst): #if any of the elements in the list are also lists (nested) then enter loop\n",
    "        x = 0 #start iterator\n",
    "        replace_list = [] #new list for nested lists\n",
    "        while x < len(lst): \n",
    "            if type(lst[x]) == list: #if that element is a list\n",
    "                y = 0 #new iterator for nested lists\n",
    "                while y < len(lst[x]):\n",
    "                    replace_list.append(lst[x][y]) #apend nested lists to new list \n",
    "                    y += 1 #iterate through nested list\n",
    "                x += 1 #iterate through list\n",
    "            else:\n",
    "                x += 1 #do nothing and iterate through list\n",
    "        lst = replace_list.copy() #chaning list to list of nested lists       \n",
    "    z = 0 #once out of loop, start counter for adding 1\n",
    "    while z < len(lst):\n",
    "        lst[z] += 1 #adding one to each element in final list\n",
    "        z += 1\n",
    "    return lst\n",
    "input_list = [1,2,[3,4],5,6,7,[8,[9,10]],11]\n",
    "q1(input_list)"
   ]
  },
  {
   "cell_type": "markdown",
   "id": "8e0ebadf",
   "metadata": {},
   "source": [
    "Write the a python program that, given an input list of any level of complexity/nestedness, will return the inner most list plus 1. This is to be done with recursion. Note: the input will contain only integers or lists. "
   ]
  },
  {
   "cell_type": "code",
   "execution_count": 29,
   "id": "f804d306",
   "metadata": {},
   "outputs": [
    {
     "data": {
      "text/plain": [
       "[10, 11]"
      ]
     },
     "execution_count": 29,
     "metadata": {},
     "output_type": "execute_result"
    }
   ],
   "source": [
    "def q2(lst):\n",
    "    if any(type(x) == list for x in lst) == False: #if there are no nested lists..\n",
    "        return[x+1 for x in lst] #return final list with 1 added to each value \n",
    "    else:\n",
    "        new_list = []\n",
    "        for x in lst: #otherwise, for the list..\n",
    "            if isinstance(x, list): #if element is a nested list...\n",
    "                for y in x:\n",
    "                    new_list.append(y) ##\n",
    "            else:\n",
    "                continue\n",
    "        return q2(new_list)\n",
    "\n",
    "input_list = [1,2,[3,4],5,6,7,[8,[9,10]],11]\n",
    "q2(input_list)"
   ]
  },
  {
   "cell_type": "markdown",
   "id": "9d42964e",
   "metadata": {},
   "source": [
    "Write a python program that, given an input list, will filter the input above a user defined threshold. This is to be done with a standard function."
   ]
  },
  {
   "cell_type": "code",
   "execution_count": 39,
   "id": "1bf3cd2c",
   "metadata": {},
   "outputs": [
    {
     "data": {
      "text/plain": [
       "[2, 4, 6, 8, 12, 14]"
      ]
     },
     "execution_count": 39,
     "metadata": {},
     "output_type": "execute_result"
    }
   ],
   "source": [
    "#version 1: first x values\n",
    "def q3(lst,thres):\n",
    "    new_list = []\n",
    "    x = 0\n",
    "    while x < len(lst):\n",
    "        if x == thres:\n",
    "            break \n",
    "        else:\n",
    "            new_list.append(lst[x])\n",
    "            x += 1\n",
    "    return new_list\n",
    "#input_list = [1,2,3,4,5,6,7,8,9,10]\n",
    "input_list = [2,4,6,8,12,14]\n",
    "\n",
    "q3(input_list,6)\n",
    "    "
   ]
  },
  {
   "cell_type": "code",
   "execution_count": 38,
   "id": "9e894128",
   "metadata": {},
   "outputs": [
    {
     "data": {
      "text/plain": [
       "[2, 4, 6]"
      ]
     },
     "execution_count": 38,
     "metadata": {},
     "output_type": "execute_result"
    }
   ],
   "source": [
    "#version 2: until we find x\n",
    "def q3_v2(lst,thres):\n",
    "    new_list = []\n",
    "    for x in lst:\n",
    "        if x == thres:\n",
    "            new_list.append(x)\n",
    "            break\n",
    "        else:\n",
    "            new_list.append(x)\n",
    "    return new_list\n",
    "input_list = [2,4,6,8,12,14]\n",
    "q3_v2(input_list,6)\n",
    "    \n"
   ]
  },
  {
   "cell_type": "code",
   "execution_count": 44,
   "id": "e30bb68f",
   "metadata": {},
   "outputs": [
    {
     "data": {
      "text/plain": [
       "0"
      ]
     },
     "execution_count": 44,
     "metadata": {},
     "output_type": "execute_result"
    }
   ],
   "source": [
    "True - True"
   ]
  },
  {
   "cell_type": "code",
   "execution_count": null,
   "id": "2318f3bb",
   "metadata": {},
   "outputs": [],
   "source": []
  }
 ],
 "metadata": {
  "kernelspec": {
   "display_name": "Python 3",
   "language": "python",
   "name": "python3"
  },
  "language_info": {
   "codemirror_mode": {
    "name": "ipython",
    "version": 3
   },
   "file_extension": ".py",
   "mimetype": "text/x-python",
   "name": "python",
   "nbconvert_exporter": "python",
   "pygments_lexer": "ipython3",
   "version": "3.8.8"
  }
 },
 "nbformat": 4,
 "nbformat_minor": 5
}
